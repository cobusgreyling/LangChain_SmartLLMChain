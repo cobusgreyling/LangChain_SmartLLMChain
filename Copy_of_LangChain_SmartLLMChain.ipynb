{
  "nbformat": 4,
  "nbformat_minor": 0,
  "metadata": {
    "colab": {
      "provenance": [],
      "authorship_tag": "ABX9TyMOdGheaPel0IojeJvFhkVw",
      "include_colab_link": true
    },
    "kernelspec": {
      "name": "python3",
      "display_name": "Python 3"
    },
    "language_info": {
      "name": "python"
    }
  },
  "cells": [
    {
      "cell_type": "markdown",
      "metadata": {
        "id": "view-in-github",
        "colab_type": "text"
      },
      "source": [
        "<a href=\"https://colab.research.google.com/github/cobusgreyling/LangChain_SmartLLMChain/blob/main/Copy_of_LangChain_SmartLLMChain.ipynb\" target=\"_parent\"><img src=\"https://colab.research.google.com/assets/colab-badge.svg\" alt=\"Open In Colab\"/></a>"
      ]
    },
    {
      "cell_type": "code",
      "execution_count": null,
      "metadata": {
        "colab": {
          "base_uri": "https://localhost:8080/"
        },
        "id": "-ReI18Wr33SH",
        "outputId": "0114d56a-baba-4538-e83f-8e3d30129cad"
      },
      "outputs": [
        {
          "output_type": "stream",
          "name": "stdout",
          "text": [
            "Collecting langchain\n",
            "  Downloading langchain-0.0.289-py3-none-any.whl (1.7 MB)\n",
            "\u001b[2K     \u001b[90m━━━━━━━━━━━━━━━━━━━━━━━━━━━━━━━━━━━━━━━━\u001b[0m \u001b[32m1.7/1.7 MB\u001b[0m \u001b[31m8.1 MB/s\u001b[0m eta \u001b[36m0:00:00\u001b[0m\n",
            "\u001b[?25hRequirement already satisfied: PyYAML>=5.3 in /usr/local/lib/python3.10/dist-packages (from langchain) (6.0.1)\n",
            "Requirement already satisfied: SQLAlchemy<3,>=1.4 in /usr/local/lib/python3.10/dist-packages (from langchain) (2.0.20)\n",
            "Requirement already satisfied: aiohttp<4.0.0,>=3.8.3 in /usr/local/lib/python3.10/dist-packages (from langchain) (3.8.5)\n",
            "Requirement already satisfied: async-timeout<5.0.0,>=4.0.0 in /usr/local/lib/python3.10/dist-packages (from langchain) (4.0.3)\n",
            "Collecting dataclasses-json<0.6.0,>=0.5.7 (from langchain)\n",
            "  Downloading dataclasses_json-0.5.14-py3-none-any.whl (26 kB)\n",
            "Collecting langsmith<0.1.0,>=0.0.21 (from langchain)\n",
            "  Downloading langsmith-0.0.37-py3-none-any.whl (38 kB)\n",
            "Requirement already satisfied: numexpr<3.0.0,>=2.8.4 in /usr/local/lib/python3.10/dist-packages (from langchain) (2.8.5)\n",
            "Requirement already satisfied: numpy<2,>=1 in /usr/local/lib/python3.10/dist-packages (from langchain) (1.23.5)\n",
            "Requirement already satisfied: pydantic<3,>=1 in /usr/local/lib/python3.10/dist-packages (from langchain) (1.10.12)\n",
            "Requirement already satisfied: requests<3,>=2 in /usr/local/lib/python3.10/dist-packages (from langchain) (2.31.0)\n",
            "Requirement already satisfied: tenacity<9.0.0,>=8.1.0 in /usr/local/lib/python3.10/dist-packages (from langchain) (8.2.3)\n",
            "Requirement already satisfied: attrs>=17.3.0 in /usr/local/lib/python3.10/dist-packages (from aiohttp<4.0.0,>=3.8.3->langchain) (23.1.0)\n",
            "Requirement already satisfied: charset-normalizer<4.0,>=2.0 in /usr/local/lib/python3.10/dist-packages (from aiohttp<4.0.0,>=3.8.3->langchain) (3.2.0)\n",
            "Requirement already satisfied: multidict<7.0,>=4.5 in /usr/local/lib/python3.10/dist-packages (from aiohttp<4.0.0,>=3.8.3->langchain) (6.0.4)\n",
            "Requirement already satisfied: yarl<2.0,>=1.0 in /usr/local/lib/python3.10/dist-packages (from aiohttp<4.0.0,>=3.8.3->langchain) (1.9.2)\n",
            "Requirement already satisfied: frozenlist>=1.1.1 in /usr/local/lib/python3.10/dist-packages (from aiohttp<4.0.0,>=3.8.3->langchain) (1.4.0)\n",
            "Requirement already satisfied: aiosignal>=1.1.2 in /usr/local/lib/python3.10/dist-packages (from aiohttp<4.0.0,>=3.8.3->langchain) (1.3.1)\n",
            "Collecting marshmallow<4.0.0,>=3.18.0 (from dataclasses-json<0.6.0,>=0.5.7->langchain)\n",
            "  Downloading marshmallow-3.20.1-py3-none-any.whl (49 kB)\n",
            "\u001b[2K     \u001b[90m━━━━━━━━━━━━━━━━━━━━━━━━━━━━━━━━━━━━━━━━\u001b[0m \u001b[32m49.4/49.4 kB\u001b[0m \u001b[31m4.5 MB/s\u001b[0m eta \u001b[36m0:00:00\u001b[0m\n",
            "\u001b[?25hCollecting typing-inspect<1,>=0.4.0 (from dataclasses-json<0.6.0,>=0.5.7->langchain)\n",
            "  Downloading typing_inspect-0.9.0-py3-none-any.whl (8.8 kB)\n",
            "Requirement already satisfied: typing-extensions>=4.2.0 in /usr/local/lib/python3.10/dist-packages (from pydantic<3,>=1->langchain) (4.5.0)\n",
            "Requirement already satisfied: idna<4,>=2.5 in /usr/local/lib/python3.10/dist-packages (from requests<3,>=2->langchain) (3.4)\n",
            "Requirement already satisfied: urllib3<3,>=1.21.1 in /usr/local/lib/python3.10/dist-packages (from requests<3,>=2->langchain) (2.0.4)\n",
            "Requirement already satisfied: certifi>=2017.4.17 in /usr/local/lib/python3.10/dist-packages (from requests<3,>=2->langchain) (2023.7.22)\n",
            "Requirement already satisfied: greenlet!=0.4.17 in /usr/local/lib/python3.10/dist-packages (from SQLAlchemy<3,>=1.4->langchain) (2.0.2)\n",
            "Requirement already satisfied: packaging>=17.0 in /usr/local/lib/python3.10/dist-packages (from marshmallow<4.0.0,>=3.18.0->dataclasses-json<0.6.0,>=0.5.7->langchain) (23.1)\n",
            "Collecting mypy-extensions>=0.3.0 (from typing-inspect<1,>=0.4.0->dataclasses-json<0.6.0,>=0.5.7->langchain)\n",
            "  Downloading mypy_extensions-1.0.0-py3-none-any.whl (4.7 kB)\n",
            "Installing collected packages: mypy-extensions, marshmallow, typing-inspect, langsmith, dataclasses-json, langchain\n",
            "Successfully installed dataclasses-json-0.5.14 langchain-0.0.289 langsmith-0.0.37 marshmallow-3.20.1 mypy-extensions-1.0.0 typing-inspect-0.9.0\n"
          ]
        }
      ],
      "source": [
        "pip install langchain"
      ]
    },
    {
      "cell_type": "code",
      "source": [
        "pip install openai"
      ],
      "metadata": {
        "colab": {
          "base_uri": "https://localhost:8080/"
        },
        "id": "mSDexI2v4Sh4",
        "outputId": "21af7123-8cb9-4c5d-8b03-2d6361f829bf"
      },
      "execution_count": null,
      "outputs": [
        {
          "output_type": "stream",
          "name": "stdout",
          "text": [
            "Collecting openai\n",
            "  Downloading openai-0.28.0-py3-none-any.whl (76 kB)\n",
            "\u001b[?25l     \u001b[90m━━━━━━━━━━━━━━━━━━━━━━━━━━━━━━━━━━━━━━━━\u001b[0m \u001b[32m0.0/76.5 kB\u001b[0m \u001b[31m?\u001b[0m eta \u001b[36m-:--:--\u001b[0m\r\u001b[2K     \u001b[91m━━━━━━━━━━━━━━━━━━━━━━━━━━━━━━━━━━━━━\u001b[0m\u001b[90m╺\u001b[0m\u001b[90m━━\u001b[0m \u001b[32m71.7/76.5 kB\u001b[0m \u001b[31m2.1 MB/s\u001b[0m eta \u001b[36m0:00:01\u001b[0m\r\u001b[2K     \u001b[90m━━━━━━━━━━━━━━━━━━━━━━━━━━━━━━━━━━━━━━━━\u001b[0m \u001b[32m76.5/76.5 kB\u001b[0m \u001b[31m1.5 MB/s\u001b[0m eta \u001b[36m0:00:00\u001b[0m\n",
            "\u001b[?25hRequirement already satisfied: requests>=2.20 in /usr/local/lib/python3.10/dist-packages (from openai) (2.31.0)\n",
            "Requirement already satisfied: tqdm in /usr/local/lib/python3.10/dist-packages (from openai) (4.66.1)\n",
            "Requirement already satisfied: aiohttp in /usr/local/lib/python3.10/dist-packages (from openai) (3.8.5)\n",
            "Requirement already satisfied: charset-normalizer<4,>=2 in /usr/local/lib/python3.10/dist-packages (from requests>=2.20->openai) (3.2.0)\n",
            "Requirement already satisfied: idna<4,>=2.5 in /usr/local/lib/python3.10/dist-packages (from requests>=2.20->openai) (3.4)\n",
            "Requirement already satisfied: urllib3<3,>=1.21.1 in /usr/local/lib/python3.10/dist-packages (from requests>=2.20->openai) (2.0.4)\n",
            "Requirement already satisfied: certifi>=2017.4.17 in /usr/local/lib/python3.10/dist-packages (from requests>=2.20->openai) (2023.7.22)\n",
            "Requirement already satisfied: attrs>=17.3.0 in /usr/local/lib/python3.10/dist-packages (from aiohttp->openai) (23.1.0)\n",
            "Requirement already satisfied: multidict<7.0,>=4.5 in /usr/local/lib/python3.10/dist-packages (from aiohttp->openai) (6.0.4)\n",
            "Requirement already satisfied: async-timeout<5.0,>=4.0.0a3 in /usr/local/lib/python3.10/dist-packages (from aiohttp->openai) (4.0.3)\n",
            "Requirement already satisfied: yarl<2.0,>=1.0 in /usr/local/lib/python3.10/dist-packages (from aiohttp->openai) (1.9.2)\n",
            "Requirement already satisfied: frozenlist>=1.1.1 in /usr/local/lib/python3.10/dist-packages (from aiohttp->openai) (1.4.0)\n",
            "Requirement already satisfied: aiosignal>=1.1.2 in /usr/local/lib/python3.10/dist-packages (from aiohttp->openai) (1.3.1)\n",
            "Installing collected packages: openai\n",
            "Successfully installed openai-0.28.0\n"
          ]
        }
      ]
    },
    {
      "cell_type": "code",
      "source": [
        "pip install langchain_experimental"
      ],
      "metadata": {
        "colab": {
          "base_uri": "https://localhost:8080/"
        },
        "id": "PG5yzJ_i4FGx",
        "outputId": "36a18303-2f38-4f37-9535-c05d97b15235"
      },
      "execution_count": null,
      "outputs": [
        {
          "output_type": "stream",
          "name": "stdout",
          "text": [
            "Collecting langchain_experimental\n",
            "  Downloading langchain_experimental-0.0.17-py3-none-any.whl (108 kB)\n",
            "\u001b[2K     \u001b[90m━━━━━━━━━━━━━━━━━━━━━━━━━━━━━━━━━━━━━━━\u001b[0m \u001b[32m109.0/109.0 kB\u001b[0m \u001b[31m2.1 MB/s\u001b[0m eta \u001b[36m0:00:00\u001b[0m\n",
            "\u001b[?25hRequirement already satisfied: langchain>=0.0.239 in /usr/local/lib/python3.10/dist-packages (from langchain_experimental) (0.0.289)\n",
            "Requirement already satisfied: PyYAML>=5.3 in /usr/local/lib/python3.10/dist-packages (from langchain>=0.0.239->langchain_experimental) (6.0.1)\n",
            "Requirement already satisfied: SQLAlchemy<3,>=1.4 in /usr/local/lib/python3.10/dist-packages (from langchain>=0.0.239->langchain_experimental) (2.0.20)\n",
            "Requirement already satisfied: aiohttp<4.0.0,>=3.8.3 in /usr/local/lib/python3.10/dist-packages (from langchain>=0.0.239->langchain_experimental) (3.8.5)\n",
            "Requirement already satisfied: async-timeout<5.0.0,>=4.0.0 in /usr/local/lib/python3.10/dist-packages (from langchain>=0.0.239->langchain_experimental) (4.0.3)\n",
            "Requirement already satisfied: dataclasses-json<0.6.0,>=0.5.7 in /usr/local/lib/python3.10/dist-packages (from langchain>=0.0.239->langchain_experimental) (0.5.14)\n",
            "Requirement already satisfied: langsmith<0.1.0,>=0.0.21 in /usr/local/lib/python3.10/dist-packages (from langchain>=0.0.239->langchain_experimental) (0.0.37)\n",
            "Requirement already satisfied: numexpr<3.0.0,>=2.8.4 in /usr/local/lib/python3.10/dist-packages (from langchain>=0.0.239->langchain_experimental) (2.8.5)\n",
            "Requirement already satisfied: numpy<2,>=1 in /usr/local/lib/python3.10/dist-packages (from langchain>=0.0.239->langchain_experimental) (1.23.5)\n",
            "Requirement already satisfied: pydantic<3,>=1 in /usr/local/lib/python3.10/dist-packages (from langchain>=0.0.239->langchain_experimental) (1.10.12)\n",
            "Requirement already satisfied: requests<3,>=2 in /usr/local/lib/python3.10/dist-packages (from langchain>=0.0.239->langchain_experimental) (2.31.0)\n",
            "Requirement already satisfied: tenacity<9.0.0,>=8.1.0 in /usr/local/lib/python3.10/dist-packages (from langchain>=0.0.239->langchain_experimental) (8.2.3)\n",
            "Requirement already satisfied: attrs>=17.3.0 in /usr/local/lib/python3.10/dist-packages (from aiohttp<4.0.0,>=3.8.3->langchain>=0.0.239->langchain_experimental) (23.1.0)\n",
            "Requirement already satisfied: charset-normalizer<4.0,>=2.0 in /usr/local/lib/python3.10/dist-packages (from aiohttp<4.0.0,>=3.8.3->langchain>=0.0.239->langchain_experimental) (3.2.0)\n",
            "Requirement already satisfied: multidict<7.0,>=4.5 in /usr/local/lib/python3.10/dist-packages (from aiohttp<4.0.0,>=3.8.3->langchain>=0.0.239->langchain_experimental) (6.0.4)\n",
            "Requirement already satisfied: yarl<2.0,>=1.0 in /usr/local/lib/python3.10/dist-packages (from aiohttp<4.0.0,>=3.8.3->langchain>=0.0.239->langchain_experimental) (1.9.2)\n",
            "Requirement already satisfied: frozenlist>=1.1.1 in /usr/local/lib/python3.10/dist-packages (from aiohttp<4.0.0,>=3.8.3->langchain>=0.0.239->langchain_experimental) (1.4.0)\n",
            "Requirement already satisfied: aiosignal>=1.1.2 in /usr/local/lib/python3.10/dist-packages (from aiohttp<4.0.0,>=3.8.3->langchain>=0.0.239->langchain_experimental) (1.3.1)\n",
            "Requirement already satisfied: marshmallow<4.0.0,>=3.18.0 in /usr/local/lib/python3.10/dist-packages (from dataclasses-json<0.6.0,>=0.5.7->langchain>=0.0.239->langchain_experimental) (3.20.1)\n",
            "Requirement already satisfied: typing-inspect<1,>=0.4.0 in /usr/local/lib/python3.10/dist-packages (from dataclasses-json<0.6.0,>=0.5.7->langchain>=0.0.239->langchain_experimental) (0.9.0)\n",
            "Requirement already satisfied: typing-extensions>=4.2.0 in /usr/local/lib/python3.10/dist-packages (from pydantic<3,>=1->langchain>=0.0.239->langchain_experimental) (4.5.0)\n",
            "Requirement already satisfied: idna<4,>=2.5 in /usr/local/lib/python3.10/dist-packages (from requests<3,>=2->langchain>=0.0.239->langchain_experimental) (3.4)\n",
            "Requirement already satisfied: urllib3<3,>=1.21.1 in /usr/local/lib/python3.10/dist-packages (from requests<3,>=2->langchain>=0.0.239->langchain_experimental) (2.0.4)\n",
            "Requirement already satisfied: certifi>=2017.4.17 in /usr/local/lib/python3.10/dist-packages (from requests<3,>=2->langchain>=0.0.239->langchain_experimental) (2023.7.22)\n",
            "Requirement already satisfied: greenlet!=0.4.17 in /usr/local/lib/python3.10/dist-packages (from SQLAlchemy<3,>=1.4->langchain>=0.0.239->langchain_experimental) (2.0.2)\n",
            "Requirement already satisfied: packaging>=17.0 in /usr/local/lib/python3.10/dist-packages (from marshmallow<4.0.0,>=3.18.0->dataclasses-json<0.6.0,>=0.5.7->langchain>=0.0.239->langchain_experimental) (23.1)\n",
            "Requirement already satisfied: mypy-extensions>=0.3.0 in /usr/local/lib/python3.10/dist-packages (from typing-inspect<1,>=0.4.0->dataclasses-json<0.6.0,>=0.5.7->langchain>=0.0.239->langchain_experimental) (1.0.0)\n",
            "Installing collected packages: langchain_experimental\n",
            "Successfully installed langchain_experimental-0.0.17\n"
          ]
        }
      ]
    },
    {
      "cell_type": "code",
      "source": [
        "import os\n",
        "\n",
        "os.environ[\"OPENAI_API_KEY\"] = \"xxxxxxxxxxxxxxxxx\""
      ],
      "metadata": {
        "id": "KuqraxFF35P8"
      },
      "execution_count": null,
      "outputs": []
    },
    {
      "cell_type": "code",
      "source": [
        "from langchain.prompts import PromptTemplate\n",
        "from langchain.chat_models import ChatOpenAI\n",
        "from langchain_experimental.smart_llm import SmartLLMChain"
      ],
      "metadata": {
        "id": "vfIr2a2J3_aO"
      },
      "execution_count": null,
      "outputs": []
    },
    {
      "cell_type": "code",
      "source": [
        "hard_question = \"If it takes one man three days to dig a hole of one cubic metres, how long will it take 30 men to dig 30 such holes?\""
      ],
      "metadata": {
        "id": "iK8nX2__4B9B"
      },
      "execution_count": null,
      "outputs": []
    },
    {
      "cell_type": "code",
      "source": [
        "prompt = PromptTemplate.from_template(hard_question)\n",
        "llm = ChatOpenAI(temperature=0, model_name=\"gpt-3.5-turbo\")"
      ],
      "metadata": {
        "id": "NY4BNSLj4NcY"
      },
      "execution_count": null,
      "outputs": []
    },
    {
      "cell_type": "code",
      "source": [
        "chain = SmartLLMChain(llm=llm, prompt=prompt, n_ideas=3, verbose=True)"
      ],
      "metadata": {
        "id": "k4c8lnju4sWi"
      },
      "execution_count": null,
      "outputs": []
    },
    {
      "cell_type": "code",
      "source": [
        "chain.run({})"
      ],
      "metadata": {
        "colab": {
          "base_uri": "https://localhost:8080/",
          "height": 1000
        },
        "id": "B8oKVING4uiW",
        "outputId": "a797be6e-4924-4362-d479-b89243028d99"
      },
      "execution_count": null,
      "outputs": [
        {
          "output_type": "stream",
          "name": "stdout",
          "text": [
            "\n",
            "\n",
            "\u001b[1m> Entering new SmartLLMChain chain...\u001b[0m\n",
            "Prompt after formatting:\n",
            "\u001b[32;1m\u001b[1;3mIf it takes one man three days to dig a hole of one cubic metres, how long will it take 30 men to dig 30 such holes?\u001b[0m\n",
            "Idea 1:\n",
            "\u001b[36;1m\u001b[1;3mStep 1: If one man can dig a hole of one cubic meter in three days, it means that the rate of digging for one man is 1/3 cubic meters per day.\n",
            "\n",
            "Step 2: Now, we need to find the total rate of digging for 30 men. Since each man has a rate of 1/3 cubic meters per day, the total rate for 30 men would be 30 times the rate of one man.\n",
            "\n",
            "Total rate for 30 men = 30 * (1/3) = 10 cubic meters per day.\n",
            "\n",
            "Step 3: Finally, we need to find how long it will take 30 men to dig 30 holes, each of one cubic meter. Since the total rate of digging for 30 men is 10 cubic meters per day, we can divide the total number of holes (30) by the rate to find the time.\n",
            "\n",
            "Time = Total number of holes / Total rate of digging\n",
            "Time = 30 / 10 = 3 days.\n",
            "\n",
            "Therefore, it will take 30 men 3 days to dig 30 holes, each of one cubic meter.\u001b[0m\n",
            "Idea 2:\n",
            "\u001b[36;1m\u001b[1;3mStep 1: If one man can dig a hole of one cubic meter in three days, it means that the rate of digging for one man is 1/3 cubic meters per day.\n",
            "\n",
            "Step 2: Now, we need to find the total rate of digging for 30 men. Since each man has a rate of 1/3 cubic meters per day, the total rate for 30 men would be 30 times the rate of one man.\n",
            "\n",
            "Total rate for 30 men = 30 * (1/3) = 10 cubic meters per day.\n",
            "\n",
            "Step 3: Finally, we need to find how long it will take 30 men to dig 30 holes, each of one cubic meter. Since the total rate of digging for 30 men is 10 cubic meters per day, we can divide the total number of holes (30) by the rate to find the time.\n",
            "\n",
            "Time = Total number of holes / Total rate of digging\n",
            "Time = 30 / 10 = 3 days.\n",
            "\n",
            "Therefore, it will take 30 men 3 days to dig 30 holes, each of one cubic meter.\u001b[0m\n",
            "Idea 3:\n",
            "\u001b[36;1m\u001b[1;3mStep 1: If one man can dig a hole of one cubic meter in three days, it means that the rate of digging for one man is 1/3 cubic meters per day.\n",
            "\n",
            "Step 2: Now, we need to find the total rate of digging for 30 men. Since each man has a rate of 1/3 cubic meters per day, the total rate for 30 men would be 30 times the rate of one man.\n",
            "\n",
            "Total rate for 30 men = 30 * (1/3) = 10 cubic meters per day.\n",
            "\n",
            "Step 3: Finally, we need to find how long it will take 30 men to dig 30 holes, each of one cubic meter. Since the total rate of digging for 30 men is 10 cubic meters per day, we can divide the total number of holes (30) by the rate to find the time.\n",
            "\n",
            "Time = Total number of holes / Total rate of digging\n",
            "Time = 30 / 10 = 3 days.\n",
            "\n",
            "Therefore, it will take 30 men 3 days to dig 30 holes, each of one cubic meter.\u001b[0m\n",
            "Critique:\n",
            "\u001b[33;1m\u001b[1;3mIdea 1: \n",
            "\n",
            "Flaws and faulty logic:\n",
            "1. The answer assumes that the rate of digging for one man remains constant regardless of the number of men working. However, in reality, the rate of digging may vary depending on factors such as coordination, efficiency, and physical limitations.\n",
            "2. The answer assumes that the time taken to dig one hole is the same as the time taken to dig 30 holes. This may not be accurate as the efficiency of digging may decrease when multiple holes are being dug simultaneously.\n",
            "3. The answer does not consider any potential limitations or constraints that may arise when multiple men are working together, such as space constraints or coordination issues.\n",
            "\n",
            "Idea 2: \n",
            "\n",
            "Flaws and faulty logic:\n",
            "1. The answer assumes that the rate of digging for one man remains constant regardless of the number of men working. However, in reality, the rate of digging may vary depending on factors such as coordination, efficiency, and physical limitations.\n",
            "2. The answer assumes that the time taken to dig one hole is the same as the time taken to dig 30 holes. This may not be accurate as the efficiency of digging may decrease when multiple holes are being dug simultaneously.\n",
            "3. The answer does not consider any potential limitations or constraints that may arise when multiple men are working together, such as space constraints or coordination issues.\n",
            "\n",
            "Idea 3: \n",
            "\n",
            "Flaws and faulty logic:\n",
            "1. The answer assumes that the rate of digging for one man remains constant regardless of the number of men working. However, in reality, the rate of digging may vary depending on factors such as coordination, efficiency, and physical limitations.\n",
            "2. The answer assumes that the time taken to dig one hole is the same as the time taken to dig 30 holes. This may not be accurate as the efficiency of digging may decrease when multiple holes are being dug simultaneously.\n",
            "3. The answer does not consider any potential limitations or constraints that may arise when multiple men are working together, such as space constraints or coordination issues.\n",
            "\n",
            "In conclusion, all three answer options have flaws and faulty logic as they do not account for potential variations in the rate of digging and the efficiency of multiple men working together. They also overlook any limitations or constraints that may affect the overall time taken to dig the holes.\u001b[0m\n",
            "Resolution:\n",
            "\u001b[32;1m\u001b[1;3mStep 1: Finding the best answer option chosen by the researcher.\n",
            "\n",
            "Step 2: Improving the chosen answer option.\n",
            "\n",
            "Step 3: Printing the full answer.\n",
            "\n",
            "Answer: \n",
            "\n",
            "It seems that the researcher did not provide any indication of which answer option they considered to be the best. Therefore, we cannot determine the chosen answer option.\n",
            "\n",
            "However, based on the flaws and faulty logic identified in all three answer options, it is necessary to provide an improved and accurate answer.\n",
            "\n",
            "Improved Answer:\n",
            "\n",
            "To determine the time it will take for 30 men to dig 30 holes, we need to consider the rate of digging and the efficiency of multiple men working together. \n",
            "\n",
            "Given that one man can dig a hole of one cubic meter in three days, we can calculate the rate of digging for one man as 1/3 cubic meters per day.\n",
            "\n",
            "To find the total rate of digging for 30 men, we multiply the rate of one man by the number of men:\n",
            "\n",
            "Total rate for 30 men = 30 * (1/3) = 10 cubic meters per day.\n",
            "\n",
            "Now, we need to find the time it will take for 30 men to dig 30 holes, each of one cubic meter. Since the total rate of digging for 30 men is 10 cubic meters per day, we can divide the total number of holes (30) by the rate to find the time:\n",
            "\n",
            "Time = Total number of holes / Total rate of digging\n",
            "Time = 30 / 10 = 3 days.\n",
            "\n",
            "Therefore, it will take 30 men 3 days to dig 30 holes, each of one cubic meter.\n",
            "\n",
            "This answer takes into account the rate of digging, the efficiency of multiple men working together, and provides a clear and accurate calculation of the time required.\u001b[0m\n",
            "\n",
            "\u001b[1m> Finished chain.\u001b[0m\n"
          ]
        },
        {
          "output_type": "execute_result",
          "data": {
            "text/plain": [
              "'Step 1: Finding the best answer option chosen by the researcher.\\n\\nStep 2: Improving the chosen answer option.\\n\\nStep 3: Printing the full answer.\\n\\nAnswer: \\n\\nIt seems that the researcher did not provide any indication of which answer option they considered to be the best. Therefore, we cannot determine the chosen answer option.\\n\\nHowever, based on the flaws and faulty logic identified in all three answer options, it is necessary to provide an improved and accurate answer.\\n\\nImproved Answer:\\n\\nTo determine the time it will take for 30 men to dig 30 holes, we need to consider the rate of digging and the efficiency of multiple men working together. \\n\\nGiven that one man can dig a hole of one cubic meter in three days, we can calculate the rate of digging for one man as 1/3 cubic meters per day.\\n\\nTo find the total rate of digging for 30 men, we multiply the rate of one man by the number of men:\\n\\nTotal rate for 30 men = 30 * (1/3) = 10 cubic meters per day.\\n\\nNow, we need to find the time it will take for 30 men to dig 30 holes, each of one cubic meter. Since the total rate of digging for 30 men is 10 cubic meters per day, we can divide the total number of holes (30) by the rate to find the time:\\n\\nTime = Total number of holes / Total rate of digging\\nTime = 30 / 10 = 3 days.\\n\\nTherefore, it will take 30 men 3 days to dig 30 holes, each of one cubic meter.\\n\\nThis answer takes into account the rate of digging, the efficiency of multiple men working together, and provides a clear and accurate calculation of the time required.'"
            ],
            "application/vnd.google.colaboratory.intrinsic+json": {
              "type": "string"
            }
          },
          "metadata": {},
          "execution_count": 22
        }
      ]
    },
    {
      "cell_type": "code",
      "source": [
        "chain = SmartLLMChain(\n",
        "    ideation_llm=ChatOpenAI(temperature=0.9, model_name=\"gpt-3.5-turbo\"),\n",
        "    critique_llm=ChatOpenAI(temperature=0.9, model_name=\"gpt-3.5-turbo\"),\n",
        "    resolver_llm=ChatOpenAI(temperature=0.9, model_name=\"gpt-3.5-turbo\"),\n",
        "    prompt=prompt,\n",
        "    n_ideas=3,\n",
        "    verbose=True,\n",
        ")"
      ],
      "metadata": {
        "id": "FqqJdvga5Cgt"
      },
      "execution_count": null,
      "outputs": []
    },
    {
      "cell_type": "code",
      "source": [
        "chain = SmartLLMChain(\n",
        "    critique_llm=ChatOpenAI(temperature=0.9, model_name=\"gpt-3.5-turbo-16k-0613\"),\n",
        "    llm=ChatOpenAI(\n",
        "        temperature=0, model_name=\"gpt-4\"\n",
        "    ),  # will be used for critqiue and resolution as no specific llms are given\n",
        "    prompt=prompt,\n",
        "    n_ideas=3,\n",
        "    verbose=True,\n",
        ")"
      ],
      "metadata": {
        "id": "irm6TtdY55hO"
      },
      "execution_count": null,
      "outputs": []
    },
    {
      "cell_type": "code",
      "source": [
        "chain = SmartLLMChain(\n",
        "    resolver_llm=ChatOpenAI(temperature=0.9, model_name=\"gpt-3.5-turbo\"),\n",
        "    llm=ChatOpenAI(\n",
        "        temperature=0, model_name=\"gpt-4\"\n",
        "    ),  # will be used for critqiue and resolution as no specific llms are given\n",
        "    prompt=prompt,\n",
        "    n_ideas=3,\n",
        "    verbose=True,\n",
        ")"
      ],
      "metadata": {
        "id": "hfuWyTwY55sw"
      },
      "execution_count": null,
      "outputs": []
    },
    {
      "cell_type": "code",
      "source": [
        "chain.run({})"
      ],
      "metadata": {
        "colab": {
          "base_uri": "https://localhost:8080/",
          "height": 1000
        },
        "id": "qiQOFV6h6UDc",
        "outputId": "16c87949-3899-4497-f61c-be4511100894"
      },
      "execution_count": null,
      "outputs": [
        {
          "output_type": "stream",
          "name": "stdout",
          "text": [
            "\n",
            "\n",
            "\u001b[1m> Entering new SmartLLMChain chain...\u001b[0m\n",
            "Prompt after formatting:\n",
            "\u001b[32;1m\u001b[1;3mIf it takes one man three days to dig a hole of one cubic metres, how long will it take 30 men to dig 30 such holes?\u001b[0m\n",
            "Idea 1:\n",
            "\u001b[36;1m\u001b[1;3mStep 1: We know that one man can dig a hole of one cubic meter in three days. This means that the man's rate of digging is 1/3 of a cubic meter per day.\n",
            "\n",
            "Step 2: If 30 men work together, we can add up their individual rates of digging. Since each man digs at a rate of 1/3 of a cubic meter per day, the combined rate of the 30 men would be 30 * (1/3) = 10 cubic meters per day.\n",
            "\n",
            "Step 3: Since we want to dig 30 holes, we need to determine how many days it would take to dig those 30 holes at a rate of 10 cubic meters per day. To find this, we divide the total volume (30 cubic meters) by the rate of digging (10 cubic meters per day).\n",
            "\n",
            "Step 4: So, it would take 30 men (working together) 30 / 10 = 3 days to dig 30 holes of one cubic meter each.\n",
            "\n",
            "Therefore, it will take 30 men 3 days to dig 30 holes of one cubic meter each.\u001b[0m\n",
            "Idea 2:\n",
            "\u001b[36;1m\u001b[1;3mFirst, we know that one man can dig one cubic meter in three days. Therefore, in one day, one man can dig 1/3 cubic meters (since 1/3 of 3 is 1).\n",
            "\n",
            "Now, if one man can dig 1/3 cubic meters in one day, then 30 men can dig 30 times that amount, which is 30/3 = 10 cubic meters in one day.\n",
            "\n",
            "Since we want to know how long it will take for 30 men to dig 30 cubic meters, and we know they can dig 10 cubic meters in one day, we can divide 30 by 10 to find the number of days it will take. \n",
            "\n",
            "30/10 = 3 \n",
            "\n",
            "So, it will take 30 men 3 days to dig 30 cubic meters.\u001b[0m\n",
            "Idea 3:\n",
            "\u001b[36;1m\u001b[1;3mStep 1: We know that one man can dig one hole of one cubic meter in three days. \n",
            "\n",
            "Step 2: This means that one man can dig one-third of a hole in one day. \n",
            "\n",
            "Step 3: If one man can dig one-third of a hole in one day, then 30 men can dig 30 times that amount in one day. \n",
            "\n",
            "Step 4: Therefore, 30 men can dig 30/3 = 10 holes in one day. \n",
            "\n",
            "Step 5: Since it takes one day for 30 men to dig 10 holes, it will take 30 men 3 days to dig 30 holes. \n",
            "\n",
            "So, it will take 30 men 3 days to dig 30 holes.\u001b[0m\n",
            "Critique:\n",
            "\u001b[33;1m\u001b[1;3mFlaws and faulty logic in each answer:\n",
            "\n",
            "Idea 1:\n",
            "- The answer assumes that the rate of digging remains constant regardless of the number of people involved. However, in reality, the rate of digging may not scale linearly with the number of people. It is possible that there could be diminishing returns or coordination issues when multiple people are involved.\n",
            "- The answer assumes that the 30 men will work at the same rate as the one man. However, it is possible that the efficiency or skill level of the additional men may differ, resulting in a different overall rate of digging.\n",
            "\n",
            "Idea 2:\n",
            "- The answer assumes that the rate of digging remains the same when 30 men work together. However, as mentioned before, the rate of digging may not scale linearly with the number of people, and there could be diminishing returns or coordination issues.\n",
            "- The answer divides the total volume (30 cubic meters) by the rate of digging (10 cubic meters per day) to determine the number of days. This assumes that the 30 men will work continuously without any breaks or variations in their rate. In reality, there could be limitations or variations in their working hours or productivity.\n",
            "\n",
            "Idea 3:\n",
            "- The answer assumes that the rate of digging remains constant regardless of the number of people involved, similar to the first idea. Again, this may not reflect reality.\n",
            "- The answer states that 30 men can dig 30 times the amount that one man can dig in one day. However, this assumes that the efficiency or skill level of the additional men is the same as the one man. As mentioned before, there could be variations in productivity among the individuals, leading to a different overall rate of digging.\n",
            "\n",
            "In summary, all three answer options make assumptions about the rate of digging and the efficiency of the people involved without considering potential variations or limitations in real-life scenarios. Therefore, they may not accurately determine the time required for 30 men to dig 30 holes.\u001b[0m\n",
            "Resolution:\n",
            "\u001b[32;1m\u001b[1;3mStep 1: The researcher thought that Idea 3 was the best answer option.\n",
            "\n",
            "Step 2: To improve Idea 3, we need to consider the potential variations in the rate of digging when multiple people are involved. We can account for this by assuming that the rate of digging scales with the number of people, but not necessarily linearly. We can introduce a modifier factor to reflect this.\n",
            "\n",
            "Step 3: The improved answer taking into account the modifier factor is as follows:\n",
            "\n",
            "Let's assume that the rate of digging scales with the number of people, but not linearly. Let's introduce a modifier factor of K to account for this. This means that the rate of digging for N men can be represented as K * (1/3) cubic meters per day.\n",
            "\n",
            "Now, if 30 men work together, their combined rate of digging can be calculated as 30 * (K * 1/3) = 10K cubic meters per day.\n",
            "\n",
            "Since we want to dig 30 holes, we need to determine how many days it would take to dig those 30 holes at a rate of 10K cubic meters per day. To find this, we divide the total volume (30 cubic meters) by the rate of digging (10K cubic meters per day):\n",
            "\n",
            "30 / (10K) = 3 / K\n",
            "\n",
            "Therefore, it will take 30 men 3/K days to dig 30 holes of one cubic meter each, considering the modifier factor K.\n",
            "\n",
            "Please note that without additional information or context, we cannot determine the specific value of the modifier factor K. It would depend on factors such as the efficiency, coordination, and skill level of the individuals involved.\n",
            "\n",
            "Please output the full answer from Step 3.\u001b[0m\n",
            "\n",
            "\u001b[1m> Finished chain.\u001b[0m\n"
          ]
        },
        {
          "output_type": "execute_result",
          "data": {
            "text/plain": [
              "\"Step 1: The researcher thought that Idea 3 was the best answer option.\\n\\nStep 2: To improve Idea 3, we need to consider the potential variations in the rate of digging when multiple people are involved. We can account for this by assuming that the rate of digging scales with the number of people, but not necessarily linearly. We can introduce a modifier factor to reflect this.\\n\\nStep 3: The improved answer taking into account the modifier factor is as follows:\\n\\nLet's assume that the rate of digging scales with the number of people, but not linearly. Let's introduce a modifier factor of K to account for this. This means that the rate of digging for N men can be represented as K * (1/3) cubic meters per day.\\n\\nNow, if 30 men work together, their combined rate of digging can be calculated as 30 * (K * 1/3) = 10K cubic meters per day.\\n\\nSince we want to dig 30 holes, we need to determine how many days it would take to dig those 30 holes at a rate of 10K cubic meters per day. To find this, we divide the total volume (30 cubic meters) by the rate of digging (10K cubic meters per day):\\n\\n30 / (10K) = 3 / K\\n\\nTherefore, it will take 30 men 3/K days to dig 30 holes of one cubic meter each, considering the modifier factor K.\\n\\nPlease note that without additional information or context, we cannot determine the specific value of the modifier factor K. It would depend on factors such as the efficiency, coordination, and skill level of the individuals involved.\\n\\nPlease output the full answer from Step 3.\""
            ],
            "application/vnd.google.colaboratory.intrinsic+json": {
              "type": "string"
            }
          },
          "metadata": {},
          "execution_count": 25
        }
      ]
    },
    {
      "cell_type": "code",
      "source": [],
      "metadata": {
        "id": "g5m7yQiIi8Bz"
      },
      "execution_count": null,
      "outputs": []
    },
    {
      "cell_type": "code",
      "source": [],
      "metadata": {
        "id": "IeW9hYjJi8Yu"
      },
      "execution_count": null,
      "outputs": []
    }
  ]
}